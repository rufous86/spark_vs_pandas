{
 "cells": [
  {
   "cell_type": "markdown",
   "metadata": {
    "colab_type": "text",
    "id": "view-in-github"
   },
   "source": [
    "<a href=\"https://colab.research.google.com/github/rufous86/spark_vs_pandas/blob/main/spark_learning.ipynb\" target=\"_parent\"><img src=\"https://colab.research.google.com/assets/colab-badge.svg\" alt=\"Open In Colab\"/></a>"
   ]
  },
  {
   "cell_type": "markdown",
   "metadata": {
    "id": "rxZ5t4xSvBHf"
   },
   "source": [
    "# Pyspark. Анализ больших данных, когда Pandas не достаточно"
   ]
  },
  {
   "cell_type": "markdown",
   "metadata": {
    "id": "EBKkckMtvBHl"
   },
   "source": [
    "Pandas - одна из наиболее используемых библиотек Python с открытым исходным кодом для работы со структурированными табличными данными для анализа. Библиотека Pandas активно используется для аналитики данных, машинного обучения, проектов в области науки о данных и многих других.\n",
    "\n",
    "Однако он не поддерживает распределенную обработку, поэтому вам всегда придется увеличивать ресурсы, когда вам понадобится дополнительная мощность для поддержки растущих данных.\n",
    "\n",
    "Проще говоря, Pandas выполняет операции на одной машине, в то время как PySpark работает на нескольких машинах. Если вы работаете над приложением машинного обучения, где вы имеете дело с большими наборами данных, PySpark является лучшим вариантом, который может обрабатывать операции во много раз (100x) быстрее, чем Pandas.\n",
    "\n",
    "PySpark - это библиотека Spark, написанная на языке Python для запуска приложений Python с использованием возможностей Apache Spark. Используя PySpark, мы можем запускать приложения параллельно на распределенном кластере (несколько узлов) или даже на одном узле."
   ]
  },
  {
   "cell_type": "markdown",
   "metadata": {
    "id": "KZCvfUeWBJhR"
   },
   "source": [
    "Скачаем необходимые наборы данных с kaggle  \n",
    "инструкция по скачиванию данных в colab напрямую с kaggle ниже:  \n",
    "https://www.kaggle.com/general/74235"
   ]
  },
  {
   "cell_type": "markdown",
   "metadata": {
    "id": "bMCo1m02vBHm"
   },
   "source": [
    "![](https://github.com/rufous86/spark_vs_pandas/blob/main/assets/kaggle_token.png?raw=1)"
   ]
  },
  {
   "cell_type": "code",
   "execution_count": null,
   "metadata": {
    "id": "BblzxVX7l-xW"
   },
   "outputs": [],
   "source": [
    "# ! pip install -q kaggle\n",
    "# from google.colab import drive\n",
    "# drive.mount('/content/drive')\n",
    "# ! mkdir ~/.kaggle\n",
    "# ! cp '/content/drive/MyDrive/Colab Notebooks/kaggle.json' ~/.kaggle/\n",
    "# ! chmod 600 ~/.kaggle/kaggle.json\n",
    "# ! kaggle competitions download -c 'riiid-test-answer-prediction'\n",
    "# ! mkdir data\n",
    "# ! unzip riiid-test-answer-prediction.zip -d data"
   ]
  },
  {
   "cell_type": "code",
   "execution_count": null,
   "metadata": {
    "id": "Xw_xvyKFqM6y"
   },
   "outputs": [],
   "source": [
    "# ! pip install pyspark\n",
    "# ! pip install pyarrow"
   ]
  },
  {
   "cell_type": "code",
   "execution_count": null,
   "metadata": {
    "colab": {
     "base_uri": "https://localhost:8080/",
     "height": 219
    },
    "id": "atOtPlI4qPjK",
    "outputId": "4c7545fe-4429-45d6-e980-e22d872d3ea8"
   },
   "outputs": [
    {
     "name": "stdout",
     "output_type": "stream",
     "text": [
      "22/12/15 07:21:34 WARN Utils: Your hostname, andrei-MacBookPro resolves to a loopback address: 127.0.1.1; using 192.168.0.6 instead (on interface wlp2s0)\n",
      "22/12/15 07:21:34 WARN Utils: Set SPARK_LOCAL_IP if you need to bind to another address\n"
     ]
    },
    {
     "name": "stderr",
     "output_type": "stream",
     "text": [
      "Setting default log level to \"WARN\".\n",
      "To adjust logging level use sc.setLogLevel(newLevel). For SparkR, use setLogLevel(newLevel).\n"
     ]
    },
    {
     "name": "stdout",
     "output_type": "stream",
     "text": [
      "22/12/15 07:21:46 WARN NativeCodeLoader: Unable to load native-hadoop library for your platform... using builtin-java classes where applicable\n"
     ]
    },
    {
     "data": {
      "text/html": [
       "\n",
       "            <div>\n",
       "                <p><b>SparkSession - in-memory</b></p>\n",
       "                \n",
       "        <div>\n",
       "            <p><b>SparkContext</b></p>\n",
       "\n",
       "            <p><a href=\"http://192.168.0.6:4040\">Spark UI</a></p>\n",
       "\n",
       "            <dl>\n",
       "              <dt>Version</dt>\n",
       "                <dd><code>v3.3.1</code></dd>\n",
       "              <dt>Master</dt>\n",
       "                <dd><code>local[*]</code></dd>\n",
       "              <dt>AppName</dt>\n",
       "                <dd><code>pyspark-shell</code></dd>\n",
       "            </dl>\n",
       "        </div>\n",
       "        \n",
       "            </div>\n",
       "        "
      ],
      "text/plain": [
       "<pyspark.sql.session.SparkSession at 0x7f78947450a0>"
      ]
     },
     "execution_count": 3,
     "metadata": {},
     "output_type": "execute_result"
    }
   ],
   "source": [
    "from pyspark.sql import SparkSession\n",
    "\n",
    "spark = SparkSession.builder.getOrCreate()\n",
    "spark.conf.set(\"spark.sql.execution.arrow.pyspark.enabled\", \"true\")\n",
    "spark"
   ]
  },
  {
   "cell_type": "code",
   "execution_count": null,
   "metadata": {
    "id": "JJKPDF0oc3IS"
   },
   "outputs": [],
   "source": [
    "import os\n",
    "os.environ[\"PYARROW_IGNORE_TIMEZONE\"] = \"1\""
   ]
  },
  {
   "cell_type": "code",
   "execution_count": null,
   "metadata": {
    "id": "kGuOBQaEq0fx"
   },
   "outputs": [],
   "source": [
    "df = spark.read.csv('data/train.csv', header=True, inferSchema=True)"
   ]
  },
  {
   "cell_type": "code",
   "execution_count": null,
   "metadata": {
    "colab": {
     "base_uri": "https://localhost:8080/"
    },
    "id": "9bze0lILu2bc",
    "outputId": "861a8ce6-89ad-4d2f-a2a5-406b511c3b86"
   },
   "outputs": [
    {
     "name": "stdout",
     "output_type": "stream",
     "text": [
      "root\n",
      " |-- row_id: integer (nullable = true)\n",
      " |-- timestamp: long (nullable = true)\n",
      " |-- user_id: integer (nullable = true)\n",
      " |-- content_id: integer (nullable = true)\n",
      " |-- content_type_id: integer (nullable = true)\n",
      " |-- task_container_id: integer (nullable = true)\n",
      " |-- user_answer: integer (nullable = true)\n",
      " |-- answered_correctly: integer (nullable = true)\n",
      " |-- prior_question_elapsed_time: double (nullable = true)\n",
      " |-- prior_question_had_explanation: boolean (nullable = true)\n",
      "\n"
     ]
    }
   ],
   "source": [
    "df.printSchema()"
   ]
  },
  {
   "cell_type": "code",
   "execution_count": null,
   "metadata": {
    "colab": {
     "base_uri": "https://localhost:8080/"
    },
    "id": "4YDNZfPbrnWJ",
    "outputId": "d17d6ee1-bce6-4e54-cf78-7f06d5d4cb32"
   },
   "outputs": [
    {
     "name": "stdout",
     "output_type": "stream",
     "text": [
      "+------+---------+-------+----------+---------------+-----------------+-----------+------------------+---------------------------+------------------------------+\n",
      "|row_id|timestamp|user_id|content_id|content_type_id|task_container_id|user_answer|answered_correctly|prior_question_elapsed_time|prior_question_had_explanation|\n",
      "+------+---------+-------+----------+---------------+-----------------+-----------+------------------+---------------------------+------------------------------+\n",
      "|     0|        0|    115|      5692|              0|                1|          3|                 1|                       null|                          null|\n",
      "|     1|    56943|    115|      5716|              0|                2|          2|                 1|                    37000.0|                         false|\n",
      "|     2|   118363|    115|       128|              0|                0|          0|                 1|                    55000.0|                         false|\n",
      "|     3|   131167|    115|      7860|              0|                3|          0|                 1|                    19000.0|                         false|\n",
      "|     4|   137965|    115|      7922|              0|                4|          1|                 1|                    11000.0|                         false|\n",
      "|     5|   157063|    115|       156|              0|                5|          2|                 1|                     5000.0|                         false|\n",
      "|     6|   176092|    115|        51|              0|                6|          0|                 1|                    17000.0|                         false|\n",
      "|     7|   194190|    115|        50|              0|                7|          3|                 1|                    17000.0|                         false|\n",
      "|     8|   212463|    115|      7896|              0|                8|          2|                 1|                    16000.0|                         false|\n",
      "|     9|   230983|    115|      7863|              0|                9|          0|                 1|                    16000.0|                         false|\n",
      "|    10|   255381|    115|       152|              0|               10|          2|                 0|                    17000.0|                         false|\n",
      "|    11|   280033|    115|       104|              0|               11|          1|                 0|                    22000.0|                         false|\n",
      "|    12|   302994|    115|       108|              0|               12|          1|                 0|                    23000.0|                         false|\n",
      "|    13|   328686|    115|      7900|              0|               13|          0|                 1|                    21000.0|                         false|\n",
      "|    14|   352686|    115|      7901|              0|               14|          1|                 1|                    24000.0|                         false|\n",
      "|    15|   376162|    115|      7971|              0|               15|          2|                 1|                    22000.0|                         false|\n",
      "|    16|   398020|    115|        25|              0|               16|          1|                 1|                    21000.0|                         false|\n",
      "|    17|   418008|    115|       183|              0|               17|          0|                 0|                    20000.0|                         false|\n",
      "|    18|   437272|    115|      7926|              0|               18|          1|                 1|                    18000.0|                         false|\n",
      "|    19|   468511|    115|      7927|              0|               19|          3|                 1|                    17000.0|                         false|\n",
      "+------+---------+-------+----------+---------------+-----------------+-----------+------------------+---------------------------+------------------------------+\n",
      "only showing top 20 rows\n",
      "\n"
     ]
    }
   ],
   "source": [
    "df.show()"
   ]
  },
  {
   "cell_type": "code",
   "execution_count": null,
   "metadata": {
    "colab": {
     "base_uri": "https://localhost:8080/"
    },
    "id": "EAni5dyJeJDW",
    "outputId": "defa9c00-27c5-4af8-aa3e-c8551ed5e3b2"
   },
   "outputs": [
    {
     "name": "stdout",
     "output_type": "stream",
     "text": [
      "+------+---------+-------+----------+---------------+-----------------+-----------+------------------+---------------------------+------------------------------+\n",
      "|row_id|timestamp|user_id|content_id|content_type_id|task_container_id|user_answer|answered_correctly|prior_question_elapsed_time|prior_question_had_explanation|\n",
      "+------+---------+-------+----------+---------------+-----------------+-----------+------------------+---------------------------+------------------------------+\n",
      "|     0|        0|    115|      5692|              0|                1|          3|                 1|                       null|                          null|\n",
      "|     1|    56943|    115|      5716|              0|                2|          2|                 1|                    37000.0|                             0|\n",
      "|     2|   118363|    115|       128|              0|                0|          0|                 1|                    55000.0|                             0|\n",
      "|     3|   131167|    115|      7860|              0|                3|          0|                 1|                    19000.0|                             0|\n",
      "|     4|   137965|    115|      7922|              0|                4|          1|                 1|                    11000.0|                             0|\n",
      "|     5|   157063|    115|       156|              0|                5|          2|                 1|                     5000.0|                             0|\n",
      "|     6|   176092|    115|        51|              0|                6|          0|                 1|                    17000.0|                             0|\n",
      "|     7|   194190|    115|        50|              0|                7|          3|                 1|                    17000.0|                             0|\n",
      "|     8|   212463|    115|      7896|              0|                8|          2|                 1|                    16000.0|                             0|\n",
      "|     9|   230983|    115|      7863|              0|                9|          0|                 1|                    16000.0|                             0|\n",
      "|    10|   255381|    115|       152|              0|               10|          2|                 0|                    17000.0|                             0|\n",
      "|    11|   280033|    115|       104|              0|               11|          1|                 0|                    22000.0|                             0|\n",
      "|    12|   302994|    115|       108|              0|               12|          1|                 0|                    23000.0|                             0|\n",
      "|    13|   328686|    115|      7900|              0|               13|          0|                 1|                    21000.0|                             0|\n",
      "|    14|   352686|    115|      7901|              0|               14|          1|                 1|                    24000.0|                             0|\n",
      "|    15|   376162|    115|      7971|              0|               15|          2|                 1|                    22000.0|                             0|\n",
      "|    16|   398020|    115|        25|              0|               16|          1|                 1|                    21000.0|                             0|\n",
      "|    17|   418008|    115|       183|              0|               17|          0|                 0|                    20000.0|                             0|\n",
      "|    18|   437272|    115|      7926|              0|               18|          1|                 1|                    18000.0|                             0|\n",
      "|    19|   468511|    115|      7927|              0|               19|          3|                 1|                    17000.0|                             0|\n",
      "+------+---------+-------+----------+---------------+-----------------+-----------+------------------+---------------------------+------------------------------+\n",
      "only showing top 20 rows\n",
      "\n",
      "root\n",
      " |-- row_id: integer (nullable = true)\n",
      " |-- timestamp: long (nullable = true)\n",
      " |-- user_id: integer (nullable = true)\n",
      " |-- content_id: integer (nullable = true)\n",
      " |-- content_type_id: integer (nullable = true)\n",
      " |-- task_container_id: integer (nullable = true)\n",
      " |-- user_answer: integer (nullable = true)\n",
      " |-- answered_correctly: integer (nullable = true)\n",
      " |-- prior_question_elapsed_time: double (nullable = true)\n",
      " |-- prior_question_had_explanation: integer (nullable = true)\n",
      "\n"
     ]
    }
   ],
   "source": [
    "from pyspark.sql.types import IntegerType\n",
    "\n",
    "df = df.withColumn('prior_question_had_explanation', df['prior_question_had_explanation'].cast(IntegerType()))\n",
    "df.show()\n",
    "df.printSchema()"
   ]
  },
  {
   "cell_type": "code",
   "execution_count": null,
   "metadata": {
    "colab": {
     "base_uri": "https://localhost:8080/"
    },
    "id": "Sn9BLCdNDyWo",
    "outputId": "68f18473-be29-4ed7-90a8-67c223b3a80d"
   },
   "outputs": [
    {
     "data": {
      "text/plain": [
       "row_id                                  0\n",
       "timestamp                               0\n",
       "user_id                                 0\n",
       "content_id                              0\n",
       "content_type_id                         0\n",
       "task_container_id                       0\n",
       "user_answer                             0\n",
       "answered_correctly                      0\n",
       "prior_question_elapsed_time       2351538\n",
       "prior_question_had_explanation     392506\n",
       "dtype: int64"
      ]
     },
     "execution_count": 53,
     "metadata": {},
     "output_type": "execute_result"
    }
   ],
   "source": [
    "df.pandas_api().isna().sum()"
   ]
  },
  {
   "cell_type": "markdown",
   "metadata": {
    "id": "2vM_nqUGQdN2"
   },
   "source": [
    "Посмотрим, сколько в нашей таблице пустых значений"
   ]
  },
  {
   "cell_type": "code",
   "execution_count": null,
   "metadata": {
    "colab": {
     "base_uri": "https://localhost:8080/"
    },
    "id": "MVzT4DxZKRKp",
    "outputId": "0efa3c3f-bda5-468c-f810-5d0b404d8157"
   },
   "outputs": [
    {
     "data": {
      "text/plain": [
       "row_id                            0\n",
       "timestamp                         0\n",
       "user_id                           0\n",
       "content_id                        0\n",
       "content_type_id                   0\n",
       "task_container_id                 0\n",
       "user_answer                       0\n",
       "answered_correctly                0\n",
       "prior_question_elapsed_time       0\n",
       "prior_question_had_explanation    0\n",
       "dtype: int64"
      ]
     },
     "execution_count": 54,
     "metadata": {},
     "output_type": "execute_result"
    }
   ],
   "source": [
    "df = df.dropna()\n",
    "df.pandas_api().isna().sum()"
   ]
  },
  {
   "cell_type": "markdown",
   "metadata": {
    "id": "uy4FJxqiUcwe"
   },
   "source": [
    "Проанализируем характеристики, влияющие на успеваемость студентов. Так как фактически данные об успеваемости у нас отсутствуют, условно за успеваемость будут выступать правильно данные ответы.      \n",
    "Сначала сохраним колонку answered_correctly в переменную target. Это будет наша целевая переменная  \n",
    "Затем рассчитаем коэффициент корреляции целевой переменной с каждой из остальных характеристик"
   ]
  },
  {
   "cell_type": "code",
   "execution_count": null,
   "metadata": {
    "id": "cD4-3y3m9b_h"
   },
   "outputs": [],
   "source": [
    "from pyspark.ml.stat import Correlation\n",
    "from pyspark.ml.feature import VectorAssembler\n",
    "\n",
    "# convert to vector column first\n",
    "vector_col = \"corr_features\"\n",
    "assembler = VectorAssembler(inputCols=df.columns, outputCol=vector_col)\n",
    "df_vector = assembler.transform(df).select(vector_col)\n",
    "\n",
    "# get correlation matrix\n",
    "matrix = Correlation.corr(df_vector, vector_col)"
   ]
  },
  {
   "cell_type": "code",
   "execution_count": null,
   "metadata": {
    "id": "VysXkhXc9TyN"
   },
   "outputs": [],
   "source": [
    "cor_np = matrix.collect()[0][matrix.columns[0]].toArray()"
   ]
  },
  {
   "cell_type": "code",
   "execution_count": null,
   "metadata": {
    "id": "aCrVyZfn9cFu"
   },
   "outputs": [],
   "source": [
    "import pandas as pd\n",
    "\n",
    "corr_matrix_df = pd.DataFrame(data=cor_np, columns = df.columns, index=df.columns)"
   ]
  },
  {
   "cell_type": "code",
   "execution_count": null,
   "metadata": {
    "colab": {
     "base_uri": "https://localhost:8080/",
     "height": 483
    },
    "id": "lZfhMI-rS9TR",
    "outputId": "d6d8bce3-92bb-4b83-8858-61074f1795dc"
   },
   "outputs": [
    {
     "data": {
      "image/png": "[encoded data removed]",
      "text/plain": [
       "<Figure size 576x396 with 2 Axes>"
      ]
     },
     "metadata": {},
     "output_type": "display_data"
    }
   ],
   "source": [
    "import seaborn as sns \n",
    "import matplotlib.pyplot as plt\n",
    "plt.style.use('seaborn')\n",
    "\n",
    "# plt.figure(figsize=(16,5))  \n",
    "sns.heatmap(corr_matrix_df, \n",
    "            xticklabels=corr_matrix_df.columns.values,\n",
    "            yticklabels=corr_matrix_df.columns.values,  cmap=\"Greens\", annot=True)\n",
    "plt.show()"
   ]
  }
 ],
 "metadata": {
  "colab": {
   "include_colab_link": true,
   "provenance": []
  },
  "kernelspec": {
   "display_name": "Python 3 (ipykernel)",
   "language": "python",
   "name": "python3"
  },
  "language_info": {
   "codemirror_mode": {
    "name": "ipython",
    "version": 3
   },
   "file_extension": ".py",
   "mimetype": "text/x-python",
   "name": "python",
   "nbconvert_exporter": "python",
   "pygments_lexer": "ipython3",
   "version": "3.9.12"
  },
  "varInspector": {
   "cols": {
    "lenName": 16,
    "lenType": 16,
    "lenVar": 40
   },
   "kernels_config": {
    "python": {
     "delete_cmd_postfix": "",
     "delete_cmd_prefix": "del ",
     "library": "var_list.py",
     "varRefreshCmd": "print(var_dic_list())"
    },
    "r": {
     "delete_cmd_postfix": ") ",
     "delete_cmd_prefix": "rm(",
     "library": "var_list.r",
     "varRefreshCmd": "cat(var_dic_list()) "
    }
   },
   "types_to_exclude": [
    "module",
    "function",
    "builtin_function_or_method",
    "instance",
    "_Feature"
   ],
   "window_display": false
  }
 },
 "nbformat": 4,
 "nbformat_minor": 4
}
